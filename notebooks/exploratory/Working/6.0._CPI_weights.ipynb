{
 "cells": [
  {
   "cell_type": "code",
   "execution_count": 1,
   "id": "fbd409da-f5e5-499b-a13f-592db72c642f",
   "metadata": {},
   "outputs": [
    {
     "ename": "NameError",
     "evalue": "name 'get_cpi_shares' is not defined",
     "output_type": "error",
     "traceback": [
      "\u001b[1;31m---------------------------------------------------------------------------\u001b[0m",
      "\u001b[1;31mNameError\u001b[0m                                 Traceback (most recent call last)",
      "Cell \u001b[1;32mIn[1], line 54\u001b[0m\n\u001b[0;32m     49\u001b[0m     \u001b[38;5;28mprint\u001b[39m(\u001b[38;5;124mf\u001b[39m\u001b[38;5;124m\"\u001b[39m\u001b[38;5;124mCPI weights for \u001b[39m\u001b[38;5;132;01m{\u001b[39;00msample_name\u001b[38;5;132;01m}\u001b[39;00m\u001b[38;5;124m saved.\u001b[39m\u001b[38;5;124m\"\u001b[39m)\n\u001b[0;32m     52\u001b[0m \u001b[38;5;66;03m# Generate and save CPI weights for each sample\u001b[39;00m\n\u001b[0;32m     53\u001b[0m \u001b[38;5;66;03m# Individual weights: each country has its own CPI shares\u001b[39;00m\n\u001b[1;32m---> 54\u001b[0m \u001b[43msave_cpi_weights_sample\u001b[49m\u001b[43m(\u001b[49m\u001b[38;5;124;43m\"\u001b[39;49m\u001b[38;5;124;43mindividual\u001b[39;49m\u001b[38;5;124;43m\"\u001b[39;49m\u001b[43m,\u001b[49m\u001b[43m \u001b[49m\u001b[43mfinal_demand_table\u001b[49m\u001b[38;5;241;43m.\u001b[39;49m\u001b[43mcolumns\u001b[49m\u001b[38;5;241;43m.\u001b[39;49m\u001b[43mstr\u001b[49m\u001b[38;5;241;43m.\u001b[39;49m\u001b[43msplit\u001b[49m\u001b[43m(\u001b[49m\u001b[38;5;124;43m\"\u001b[39;49m\u001b[38;5;124;43m_\u001b[39;49m\u001b[38;5;124;43m\"\u001b[39;49m\u001b[43m)\u001b[49m\u001b[38;5;241;43m.\u001b[39;49m\u001b[43mstr\u001b[49m\u001b[43m[\u001b[49m\u001b[38;5;241;43m1\u001b[39;49m\u001b[43m]\u001b[49m\u001b[38;5;241;43m.\u001b[39;49m\u001b[43munique\u001b[49m\u001b[43m(\u001b[49m\u001b[43m)\u001b[49m\u001b[43m,\u001b[49m\u001b[43m \u001b[49m\u001b[43mfinal_demand_table\u001b[49m\u001b[43m)\u001b[49m  \u001b[38;5;66;03m# Each country with its own weights\u001b[39;00m\n\u001b[0;32m     56\u001b[0m \u001b[38;5;66;03m# Core countries\u001b[39;00m\n\u001b[0;32m     57\u001b[0m save_cpi_weights_sample(\u001b[38;5;124m\"\u001b[39m\u001b[38;5;124mcore\u001b[39m\u001b[38;5;124m\"\u001b[39m, core_countries, final_demand_table)\n",
      "Cell \u001b[1;32mIn[1], line 39\u001b[0m, in \u001b[0;36msave_cpi_weights_sample\u001b[1;34m(sample_name, country_group, final_demand_table)\u001b[0m\n\u001b[0;32m     36\u001b[0m valid_country_group \u001b[38;5;241m=\u001b[39m country_group\u001b[38;5;241m.\u001b[39mintersection(valid_countries)\n\u001b[0;32m     38\u001b[0m \u001b[38;5;28;01mfor\u001b[39;00m country \u001b[38;5;129;01min\u001b[39;00m valid_country_group:\n\u001b[1;32m---> 39\u001b[0m     cpi_shares \u001b[38;5;241m=\u001b[39m \u001b[43mget_cpi_shares\u001b[49m(country, final_demand_table)\n\u001b[0;32m     40\u001b[0m     \u001b[38;5;28;01mif\u001b[39;00m cpi_shares \u001b[38;5;129;01mis\u001b[39;00m \u001b[38;5;129;01mnot\u001b[39;00m \u001b[38;5;28;01mNone\u001b[39;00m:\n\u001b[0;32m     41\u001b[0m         sample_weights[country] \u001b[38;5;241m=\u001b[39m cpi_shares\n",
      "\u001b[1;31mNameError\u001b[0m: name 'get_cpi_shares' is not defined"
     ]
    }
   ],
   "source": [
    "import numpy as np\n",
    "import pandas as pd\n",
    "import os\n",
    "\n",
    "# File paths\n",
    "final_demand_table_path = \"C:/Users/danie/Nextcloud/Coding/Masterthesis/data/processed/processed_tables/2019/final_demand_table_2019.csv\"\n",
    "\n",
    "# Load the final demand table\n",
    "final_demand_table = pd.read_csv(final_demand_table_path, index_col=0)\n",
    "\n",
    "# Drop cpi column\n",
    "if \"cpi\" in final_demand_table.columns:\n",
    "    final_demand_table = final_demand_table.drop(columns=[\"cpi\"])\n",
    "\n",
    "# Remove the 'op_' prefix from row indices for cleaner output\n",
    "final_demand_table.index = final_demand_table.index.str.replace(r'^op_', '', regex=True)\n",
    "# Define country groups for different samples using two-letter ISO country codes\n",
    "core_countries = {'AT', 'BE', 'DK', 'FI', 'DE', 'GB', 'FR', 'IT', 'IE', 'LU', 'NL', 'SE'}\n",
    "periphery_countries = {'BG', 'CY', 'CZ', 'ES', 'EE', 'GR', 'HR', 'HU', 'LV', 'LT', 'MT', 'PL', 'PT', 'RO', 'SK', 'SI'}\n",
    "eu28_countries = core_countries.union(periphery_countries)\n",
    "\n",
    "# Output directory for results\n",
    "output_dir = 'C:/Users/danie/Nextcloud/Coding/Masterthesis/data/processed/results'\n",
    "os.makedirs(output_dir, exist_ok=True)\n",
    "\n",
    "# Function to calculate CPI shares from the final demand table\n",
    "def save_cpi_weights_sample(sample_name, country_group, final_demand_table):\n",
    "    sample_weights = {}\n",
    "\n",
    "    # Filter valid country codes based on column names\n",
    "    valid_countries = set(\n",
    "        col.split(\"_\")[1] for col in final_demand_table.columns\n",
    "        if col.startswith(\"ip_\") and len(col.split(\"_\")) > 2 and len(col.split(\"_\")[1]) == 2)  # Ensures only valid columns like \"ip_AT_P3_S14\" are considered\n",
    "\n",
    "    # Intersect with the given country group\n",
    "    valid_country_group = country_group.intersection(valid_countries)\n",
    "\n",
    "    for country in valid_country_group:\n",
    "        cpi_shares = get_cpi_shares(country, final_demand_table)\n",
    "        if cpi_shares is not None:\n",
    "            sample_weights[country] = cpi_shares\n",
    "\n",
    "    # Create a DataFrame\n",
    "    weights_df = pd.DataFrame(sample_weights)\n",
    "\n",
    "    # Save the DataFrame\n",
    "    output_file = os.path.join(output_dir, f\"{sample_name}_cpi_weights.csv\")\n",
    "    weights_df.to_csv(output_file)\n",
    "    print(f\"CPI weights for {sample_name} saved.\")\n",
    "\n",
    "\n",
    "# Generate and save CPI weights for each sample\n",
    "# Individual weights: each country has its own CPI shares\n",
    "save_cpi_weights_sample(\"individual\", final_demand_table.columns.str.split(\"_\").str[1].unique(), final_demand_table)  # Each country with its own weights\n",
    "\n",
    "# Core countries\n",
    "save_cpi_weights_sample(\"core\", core_countries, final_demand_table)\n",
    "\n",
    "# Periphery countries\n",
    "save_cpi_weights_sample(\"periphery\", periphery_countries, final_demand_table)\n",
    "\n",
    "# EU28 countries (all)\n",
    "save_cpi_weights_sample(\"eu28\", eu28_countries, final_demand_table)\n",
    "\n"
   ]
  },
  {
   "cell_type": "code",
   "execution_count": null,
   "id": "b89151e3-4eb8-4d3a-aff9-67eaf971a9a7",
   "metadata": {},
   "outputs": [],
   "source": []
  }
 ],
 "metadata": {
  "kernelspec": {
   "display_name": ".env",
   "language": "python",
   "name": ".env"
  },
  "language_info": {
   "codemirror_mode": {
    "name": "ipython",
    "version": 3
   },
   "file_extension": ".py",
   "mimetype": "text/x-python",
   "name": "python",
   "nbconvert_exporter": "python",
   "pygments_lexer": "ipython3",
   "version": "3.12.4"
  }
 },
 "nbformat": 4,
 "nbformat_minor": 5
}
