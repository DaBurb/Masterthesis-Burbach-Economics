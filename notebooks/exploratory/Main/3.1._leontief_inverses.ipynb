{
 "cells": [
  {
   "cell_type": "code",
   "execution_count": 1,
   "id": "83b3aabf-414c-4313-8b91-6513d48c80cd",
   "metadata": {},
   "outputs": [
    {
     "name": "stdout",
     "output_type": "stream",
     "text": [
      "Processing Leontief inverse for price model in year 2010...\n",
      "Saved Leontief inverse for price model for year 2010 at C:/Users/danie/Nextcloud/Coding/Masterthesis/data/processed/leontief_matrices\\leontief_inverse_price_model_2010.csv\n",
      "Processing Leontief inverse for price model in year 2011...\n"
     ]
    },
    {
     "ename": "KeyboardInterrupt",
     "evalue": "",
     "output_type": "error",
     "traceback": [
      "\u001b[1;31m---------------------------------------------------------------------------\u001b[0m",
      "\u001b[1;31mKeyboardInterrupt\u001b[0m                         Traceback (most recent call last)",
      "Cell \u001b[1;32mIn[1], line 66\u001b[0m\n\u001b[0;32m     63\u001b[0m output_dir_leontief \u001b[38;5;241m=\u001b[39m \u001b[38;5;124m'\u001b[39m\u001b[38;5;124mC:/Users/danie/Nextcloud/Coding/Masterthesis/data/processed/leontief_matrices\u001b[39m\u001b[38;5;124m'\u001b[39m\n\u001b[0;32m     65\u001b[0m \u001b[38;5;66;03m# Process all years to calculate Leontief inverses for the price model\u001b[39;00m\n\u001b[1;32m---> 66\u001b[0m \u001b[43mprocess_all_years_leontief_price_model\u001b[49m\u001b[43m(\u001b[49m\u001b[43mtechnical_coeff_dir\u001b[49m\u001b[43m,\u001b[49m\u001b[43m \u001b[49m\u001b[43moutput_dir_leontief\u001b[49m\u001b[43m)\u001b[49m\n",
      "Cell \u001b[1;32mIn[1], line 59\u001b[0m, in \u001b[0;36mprocess_all_years_leontief_price_model\u001b[1;34m(technical_coeff_dir, output_dir_leontief)\u001b[0m\n\u001b[0;32m     56\u001b[0m years \u001b[38;5;241m=\u001b[39m [f\u001b[38;5;241m.\u001b[39msplit(\u001b[38;5;124m'\u001b[39m\u001b[38;5;124m_\u001b[39m\u001b[38;5;124m'\u001b[39m)[\u001b[38;5;241m-\u001b[39m\u001b[38;5;241m1\u001b[39m]\u001b[38;5;241m.\u001b[39msplit(\u001b[38;5;124m'\u001b[39m\u001b[38;5;124m.\u001b[39m\u001b[38;5;124m'\u001b[39m)[\u001b[38;5;241m0\u001b[39m] \u001b[38;5;28;01mfor\u001b[39;00m f \u001b[38;5;129;01min\u001b[39;00m os\u001b[38;5;241m.\u001b[39mlistdir(technical_coeff_dir) \u001b[38;5;28;01mif\u001b[39;00m f\u001b[38;5;241m.\u001b[39mstartswith(\u001b[38;5;124m'\u001b[39m\u001b[38;5;124mtechnical_coefficients\u001b[39m\u001b[38;5;124m'\u001b[39m)]\n\u001b[0;32m     58\u001b[0m \u001b[38;5;28;01mfor\u001b[39;00m year \u001b[38;5;129;01min\u001b[39;00m \u001b[38;5;28msorted\u001b[39m(years):\n\u001b[1;32m---> 59\u001b[0m     \u001b[43mprocess_year_folder_leontief_price_model\u001b[49m\u001b[43m(\u001b[49m\u001b[43myear\u001b[49m\u001b[43m,\u001b[49m\u001b[43m \u001b[49m\u001b[43mtechnical_coeff_dir\u001b[49m\u001b[43m,\u001b[49m\u001b[43m \u001b[49m\u001b[43moutput_dir_leontief\u001b[49m\u001b[43m)\u001b[49m\n",
      "Cell \u001b[1;32mIn[1], line 38\u001b[0m, in \u001b[0;36mprocess_year_folder_leontief_price_model\u001b[1;34m(year, technical_coeff_dir, output_dir_leontief)\u001b[0m\n\u001b[0;32m     35\u001b[0m technical_coeff_df \u001b[38;5;241m=\u001b[39m pd\u001b[38;5;241m.\u001b[39mread_csv(technical_coeff_file, index_col\u001b[38;5;241m=\u001b[39m\u001b[38;5;241m0\u001b[39m)\n\u001b[0;32m     37\u001b[0m \u001b[38;5;66;03m# Calculate the Leontief inverse matrix for the price model\u001b[39;00m\n\u001b[1;32m---> 38\u001b[0m leontief_inverse_price_model_df \u001b[38;5;241m=\u001b[39m \u001b[43mcalculate_leontief_inverse_price_model\u001b[49m\u001b[43m(\u001b[49m\u001b[43mtechnical_coeff_df\u001b[49m\u001b[43m)\u001b[49m\n\u001b[0;32m     40\u001b[0m \u001b[38;5;66;03m# Ensure the output directory for Leontief matrices exists\u001b[39;00m\n\u001b[0;32m     41\u001b[0m os\u001b[38;5;241m.\u001b[39mmakedirs(output_dir_leontief, exist_ok\u001b[38;5;241m=\u001b[39m\u001b[38;5;28;01mTrue\u001b[39;00m)\n",
      "Cell \u001b[1;32mIn[1], line 17\u001b[0m, in \u001b[0;36mcalculate_leontief_inverse_price_model\u001b[1;34m(A_matrix)\u001b[0m\n\u001b[0;32m     15\u001b[0m I \u001b[38;5;241m=\u001b[39m np\u001b[38;5;241m.\u001b[39meye(A_transposed\u001b[38;5;241m.\u001b[39mshape[\u001b[38;5;241m0\u001b[39m])  \u001b[38;5;66;03m# Identity matrix\u001b[39;00m\n\u001b[0;32m     16\u001b[0m I_minus_A_transposed \u001b[38;5;241m=\u001b[39m I \u001b[38;5;241m-\u001b[39m A_transposed\u001b[38;5;241m.\u001b[39mvalues  \u001b[38;5;66;03m# I - A'\u001b[39;00m\n\u001b[1;32m---> 17\u001b[0m leontief_inverse_price_model \u001b[38;5;241m=\u001b[39m \u001b[43mnp\u001b[49m\u001b[38;5;241;43m.\u001b[39;49m\u001b[43mlinalg\u001b[49m\u001b[38;5;241;43m.\u001b[39;49m\u001b[43minv\u001b[49m\u001b[43m(\u001b[49m\u001b[43mI_minus_A_transposed\u001b[49m\u001b[43m)\u001b[49m  \u001b[38;5;66;03m# (I - A')^-1\u001b[39;00m\n\u001b[0;32m     18\u001b[0m \u001b[38;5;28;01mreturn\u001b[39;00m pd\u001b[38;5;241m.\u001b[39mDataFrame(leontief_inverse_price_model, index\u001b[38;5;241m=\u001b[39mA_matrix\u001b[38;5;241m.\u001b[39mcolumns, columns\u001b[38;5;241m=\u001b[39mA_matrix\u001b[38;5;241m.\u001b[39mindex)\n",
      "File \u001b[1;32m~\\Nextcloud\\Coding\\Masterthesis\\.env\\Lib\\site-packages\\numpy\\linalg\\_linalg.py:615\u001b[0m, in \u001b[0;36minv\u001b[1;34m(a)\u001b[0m\n\u001b[0;32m    612\u001b[0m signature \u001b[38;5;241m=\u001b[39m \u001b[38;5;124m'\u001b[39m\u001b[38;5;124mD->D\u001b[39m\u001b[38;5;124m'\u001b[39m \u001b[38;5;28;01mif\u001b[39;00m isComplexType(t) \u001b[38;5;28;01melse\u001b[39;00m \u001b[38;5;124m'\u001b[39m\u001b[38;5;124md->d\u001b[39m\u001b[38;5;124m'\u001b[39m\n\u001b[0;32m    613\u001b[0m \u001b[38;5;28;01mwith\u001b[39;00m errstate(call\u001b[38;5;241m=\u001b[39m_raise_linalgerror_singular, invalid\u001b[38;5;241m=\u001b[39m\u001b[38;5;124m'\u001b[39m\u001b[38;5;124mcall\u001b[39m\u001b[38;5;124m'\u001b[39m,\n\u001b[0;32m    614\u001b[0m               over\u001b[38;5;241m=\u001b[39m\u001b[38;5;124m'\u001b[39m\u001b[38;5;124mignore\u001b[39m\u001b[38;5;124m'\u001b[39m, divide\u001b[38;5;241m=\u001b[39m\u001b[38;5;124m'\u001b[39m\u001b[38;5;124mignore\u001b[39m\u001b[38;5;124m'\u001b[39m, under\u001b[38;5;241m=\u001b[39m\u001b[38;5;124m'\u001b[39m\u001b[38;5;124mignore\u001b[39m\u001b[38;5;124m'\u001b[39m):\n\u001b[1;32m--> 615\u001b[0m     ainv \u001b[38;5;241m=\u001b[39m \u001b[43m_umath_linalg\u001b[49m\u001b[38;5;241;43m.\u001b[39;49m\u001b[43minv\u001b[49m\u001b[43m(\u001b[49m\u001b[43ma\u001b[49m\u001b[43m,\u001b[49m\u001b[43m \u001b[49m\u001b[43msignature\u001b[49m\u001b[38;5;241;43m=\u001b[39;49m\u001b[43msignature\u001b[49m\u001b[43m)\u001b[49m\n\u001b[0;32m    616\u001b[0m \u001b[38;5;28;01mreturn\u001b[39;00m wrap(ainv\u001b[38;5;241m.\u001b[39mastype(result_t, copy\u001b[38;5;241m=\u001b[39m\u001b[38;5;28;01mFalse\u001b[39;00m))\n",
      "\u001b[1;31mKeyboardInterrupt\u001b[0m: "
     ]
    }
   ],
   "source": [
    "import os\n",
    "import pandas as pd\n",
    "import numpy as np\n",
    "\n",
    "# ---------------------------------------------------\n",
    "# 1. Calculate Leontief Inverse Matrix from Transposed Technical Coefficients (Price Model)\n",
    "# ---------------------------------------------------\n",
    "\n",
    "def calculate_leontief_inverse_price_model(A_matrix):\n",
    "    \"\"\"\n",
    "    Calculate the Leontief inverse matrix for the price model: L = (I - A')^-1\n",
    "    where A' is the transpose of the technical coefficient matrix A.\n",
    "    \"\"\"\n",
    "    A_transposed = A_matrix.T  # Transpose of A for price model\n",
    "    I = np.eye(A_transposed.shape[0])  # Identity matrix\n",
    "    I_minus_A_transposed = I - A_transposed.values  # I - A'\n",
    "    leontief_inverse_price_model = np.linalg.inv(I_minus_A_transposed)  # (I - A')^-1\n",
    "    return pd.DataFrame(leontief_inverse_price_model, index=A_matrix.columns, columns=A_matrix.index)\n",
    "\n",
    "# ---------------------------------------------------\n",
    "# 2. Process Each Year Folder for Leontief Inverse in Price Model\n",
    "# ---------------------------------------------------\n",
    "\n",
    "def process_year_folder_leontief_price_model(year, technical_coeff_dir, output_dir_leontief):\n",
    "    \"\"\"\n",
    "    Process each year folder to calculate and save the Leontief inverse matrix for the price model.\n",
    "    \"\"\"\n",
    "    print(f\"Processing Leontief inverse for price model in year {year}...\")\n",
    "\n",
    "    # Load the technical coefficient matrix for the given year\n",
    "    technical_coeff_file = os.path.join(technical_coeff_dir, f'technical_coefficients_{year}.csv')\n",
    "    if not os.path.exists(technical_coeff_file):\n",
    "        raise FileNotFoundError(f\"Technical coefficients file for year {year} not found at {technical_coeff_file}\")\n",
    "\n",
    "    technical_coeff_df = pd.read_csv(technical_coeff_file, index_col=0)\n",
    "\n",
    "    # Calculate the Leontief inverse matrix for the price model\n",
    "    leontief_inverse_price_model_df = calculate_leontief_inverse_price_model(technical_coeff_df)\n",
    "\n",
    "    # Ensure the output directory for Leontief matrices exists\n",
    "    os.makedirs(output_dir_leontief, exist_ok=True)\n",
    "\n",
    "    # Save the Leontief inverse matrix to the leontief_matrices folder\n",
    "    leontief_file = os.path.join(output_dir_leontief, f'leontief_inverse_price_model_{year}.csv')\n",
    "    leontief_inverse_price_model_df.to_csv(leontief_file)\n",
    "    print(f\"Saved Leontief inverse for price model for year {year} at {leontief_file}\")\n",
    "\n",
    "# ---------------------------------------------------\n",
    "# 3. Process All Years for Leontief Inverse in Price Model\n",
    "# ---------------------------------------------------\n",
    "\n",
    "def process_all_years_leontief_price_model(technical_coeff_dir, output_dir_leontief):\n",
    "    \"\"\"\n",
    "    Process all year folders to calculate and save Leontief inverses for the price model.\n",
    "    \"\"\"\n",
    "    years = [f.split('_')[-1].split('.')[0] for f in os.listdir(technical_coeff_dir) if f.startswith('technical_coefficients')]\n",
    "\n",
    "    for year in sorted(years):\n",
    "        process_year_folder_leontief_price_model(year, technical_coeff_dir, output_dir_leontief)\n",
    "\n",
    "# Example usage\n",
    "technical_coeff_dir = 'C:/Users/danie/Nextcloud/Coding/Masterthesis/data/processed/technical_coefficients'\n",
    "output_dir_leontief = 'C:/Users/danie/Nextcloud/Coding/Masterthesis/data/processed/leontief_matrices'\n",
    "\n",
    "# Process all years to calculate Leontief inverses for the price model\n",
    "process_all_years_leontief_price_model(technical_coeff_dir, output_dir_leontief)\n"
   ]
  },
  {
   "cell_type": "code",
   "execution_count": null,
   "id": "7e370e74-ab9a-46fe-866f-b63778e7bb5d",
   "metadata": {},
   "outputs": [],
   "source": []
  }
 ],
 "metadata": {
  "kernelspec": {
   "display_name": ".env",
   "language": "python",
   "name": ".env"
  },
  "language_info": {
   "codemirror_mode": {
    "name": "ipython",
    "version": 3
   },
   "file_extension": ".py",
   "mimetype": "text/x-python",
   "name": "python",
   "nbconvert_exporter": "python",
   "pygments_lexer": "ipython3",
   "version": "3.12.4"
  }
 },
 "nbformat": 4,
 "nbformat_minor": 5
}
