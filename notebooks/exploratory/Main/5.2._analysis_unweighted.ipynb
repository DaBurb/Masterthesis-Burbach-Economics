{
 "cells": [
  {
   "cell_type": "code",
   "execution_count": 1,
   "id": "eb4dd1ae-fc0e-42a6-b4ba-450596c48aee",
   "metadata": {
    "scrolled": true
   },
   "outputs": [
    {
     "name": "stdout",
     "output_type": "stream",
     "text": [
      "Unweighted impacts saved to C:/Users/danie/Nextcloud/Coding/Masterthesis/data/processed/results\\unweighted_shock_impacts.csv\n"
     ]
    }
   ],
   "source": [
    "import numpy as np\n",
    "import pandas as pd\n",
    "import os\n",
    "\n",
    "# File paths\n",
    "technical_coeff_path = \"C:/Users/danie/Nextcloud/Coding/Masterthesis/data/processed/technical_coefficients/technical_coefficients_2019.csv\"\n",
    "price_volatility_path = \"C:/Users/danie/Nextcloud/Coding/Masterthesis/data/processed/price_data/II_PI_volatility.csv\"\n",
    "output_dir = \"C:/Users/danie/Nextcloud/Coding/Masterthesis/data/processed/results\"\n",
    "\n",
    "# Load data\n",
    "technical_coefficients = pd.read_csv(technical_coeff_path, index_col=0)\n",
    "price_volatility = pd.read_csv(price_volatility_path)\n",
    "price_volatility.set_index('sector', inplace=True)  # New structure: 'sector' is the only index\n",
    "\n",
    "# Placeholder for results\n",
    "unweighted_impacts = []\n",
    "\n",
    "# Iterate over each sector in price_volatility\n",
    "for sector, row in price_volatility.iterrows():\n",
    "    price_shock = row['price_volatility']\n",
    "\n",
    "    # Skip zero volatility or excluded sectors\n",
    "    if price_shock == 0:\n",
    "        continue\n",
    "\n",
    "    # Check if the row and column exist in the technical_coefficients DataFrame\n",
    "    if sector not in technical_coefficients.index or sector not in technical_coefficients.columns:\n",
    "        print(f\"Skipping {sector} as it does not exist in technical_coefficients\")\n",
    "        continue\n",
    "\n",
    "    # Extract A_EE (excluding the exogenous sector row and column)\n",
    "    A_EE = technical_coefficients.drop(index=[sector]).drop(columns=[sector]).T\n",
    "\n",
    "    # Extract A_XE (coefficients of the exogenous sector influencing endogenous sectors)\n",
    "    A_XE = technical_coefficients[sector].drop(index=[sector]).values.reshape(-1, 1)\n",
    "\n",
    "    # Identity matrix for endogenous sectors\n",
    "    I = np.eye(A_EE.shape[0])\n",
    "\n",
    "    # Calculate Leontief inverse\n",
    "    try:\n",
    "        leontief_inverse_endogenous = np.linalg.inv(I - A_EE.values)\n",
    "    except np.linalg.LinAlgError:\n",
    "        print(f\"Singular matrix encountered for {sector}\")\n",
    "        continue\n",
    "\n",
    "    # Calculate ΔP_E using the modified Leontief price model\n",
    "    delta_P_E = leontief_inverse_endogenous @ (A_XE * price_shock)\n",
    "\n",
    "    # Store unweighted impacts directly in a DataFrame\n",
    "    unweighted_impact_series = pd.Series(delta_P_E.flatten(), index=A_EE.index, name=sector)\n",
    "    unweighted_impacts.append(unweighted_impact_series)\n",
    "\n",
    "# Convert results to DataFrame\n",
    "unweighted_df = pd.DataFrame(unweighted_impacts)\n",
    "\n",
    "# Ensure columns are in the same order as technical_coefficients columns (for standardization)\n",
    "column_order = technical_coefficients.columns  # Capture the original order of columns\n",
    "unweighted_df = unweighted_df.reindex(columns=column_order, fill_value=0)\n",
    "\n",
    "# Save results to CSV\n",
    "output_file = os.path.join(output_dir, 'unweighted_shock_impacts.csv')\n",
    "unweighted_df.to_csv(output_file)\n",
    "\n",
    "print(f\"Unweighted impacts saved to {output_file}\")\n"
   ]
  },
  {
   "cell_type": "code",
   "execution_count": null,
   "id": "c35bf4e2-5266-46b1-a99d-6fe547421e7a",
   "metadata": {},
   "outputs": [],
   "source": []
  }
 ],
 "metadata": {
  "kernelspec": {
   "display_name": ".env",
   "language": "python",
   "name": ".env"
  },
  "language_info": {
   "codemirror_mode": {
    "name": "ipython",
    "version": 3
   },
   "file_extension": ".py",
   "mimetype": "text/x-python",
   "name": "python",
   "nbconvert_exporter": "python",
   "pygments_lexer": "ipython3",
   "version": "3.12.4"
  }
 },
 "nbformat": 4,
 "nbformat_minor": 5
}
